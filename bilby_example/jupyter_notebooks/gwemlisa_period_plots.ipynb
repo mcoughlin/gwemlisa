{
 "cells": [
  {
   "cell_type": "code",
   "execution_count": null,
   "metadata": {},
   "outputs": [],
   "source": [
    "import os\n",
    "import re\n",
    "import numpy as np\n",
    "import pandas as pd\n",
    "import matplotlib.pyplot as plt"
   ]
  },
  {
   "cell_type": "code",
   "execution_count": null,
   "metadata": {},
   "outputs": [],
   "source": [
    "TSUN = 4.9169e-6\n",
    "gbfisher_columns = ['f','colatitude','longitude','amplitude','inclination','polarization','phase','fdot','fddot','sigma_df/f','sigma_colatitude','sigma_longitude','sigma_dA/A','sigma_inclination','sigma_polarization','sigma_phase','sigma_dfdot/fdot','sigma_dfddot/fddot','sigma_Omega','SNR','b','l','mchirp','distance'] \n",
    "gbfisher = pd.read_table('../../ldasoft/gbfisher_example/gbfisher_parameters.dat',delimiter=' ', header=None,index_col=False,names=gbfisher_columns)\n",
    "gbfisher['inclination'] = 90 - abs(np.degrees(gbfisher['inclination']) - 90)\n",
    "gbfisher['sigma_inclination'] = 90 - abs(np.degrees(gbfisher['sigma_inclination']) - 90)\n",
    "gbfisher['sigma_mchirp'] = (1/(5*TSUN))*((5/3)**(3/5))*(np.pi**(-8/5))*(gbfisher['f']**(-11/5))*(gbfisher['fdot']**(3/5))*((121*(gbfisher['sigma_df/f']**2) + 9*(gbfisher['sigma_dfdot/fdot']**2))**(1/2))\n",
    "gbfisher.head()"
   ]
  },
  {
   "cell_type": "code",
   "execution_count": null,
   "metadata": {},
   "outputs": [],
   "source": [
    "def readData(raw, index, inFunc=None):\n",
    "    x = []\n",
    "    for pos, line in enumerate(raw):\n",
    "        values = [float(x) for x in line.split()]\n",
    "        if inFunc==None:\n",
    "            x.append(values[index])\n",
    "        else:\n",
    "            x.append(inFunc(values[index]))\n",
    "    return x"
   ]
  },
  {
   "cell_type": "code",
   "execution_count": null,
   "metadata": {
    "scrolled": false
   },
   "outputs": [],
   "source": [
    "p = 'out'\n",
    "exclude = ['fdot','inc']\n",
    "binDir = os.path.join(os.getcwd(),f'../{p}-gwprior')\n",
    "\n",
    "for binary in os.listdir(binDir):\n",
    "    rawData = []\n",
    "    for folder in os.listdir(os.path.join(binDir,binary)):\n",
    "        if os.path.isdir(os.path.join(binDir,os.path.join(binary,folder))) & (not folder in exclude):\n",
    "            B_n = int(re.search('binary(.+?)row',folder).group(1))\n",
    "            with open(os.path.join(binDir,os.path.join(binary,os.path.join(folder,'post_equal_weights.dat'))),'r') as raw:\n",
    "                rawData = np.concatenate([rawData,readData(raw,3,inFunc=lambda p: 24*60*p)])\n",
    "    if B_n == 1:\n",
    "        vdata = pd.DataFrame(np.sort(rawData))\n",
    "        vdata.insert(0, 'B_n', B_n)\n",
    "        vdata.insert(0, 'type', 'gw+em')\n",
    "    else:\n",
    "        raw_vdata = pd.DataFrame(np.sort(rawData))\n",
    "        raw_vdata.insert(0, 'B_n', B_n)\n",
    "        raw_vdata.insert(0, 'type', 'gw+em')\n",
    "        vdata = pd.concat([vdata,raw_vdata], axis=0)"
   ]
  },
  {
   "cell_type": "code",
   "execution_count": null,
   "metadata": {
    "scrolled": false
   },
   "outputs": [],
   "source": [
    "chainDir = '../../data/08yr_sp32_100_binaries/'\n",
    "trvs = []\n",
    "\n",
    "for binary in os.listdir(chainDir):\n",
    "    rawData = []\n",
    "    B_n = int(re.search('binary(.*)',binary).group(1))\n",
    "    with open(os.path.join(chainDir,os.path.join(binary,'chains/dimension_chain.dat.1')),'r') as raw:\n",
    "        rawData = np.concatenate([rawData,readData(raw,0,inFunc=lambda f: 2/(60*f))])\n",
    "    raw_vdata = pd.DataFrame(np.sort(rawData))\n",
    "    raw_vdata.insert(0, 'B_n', B_n)\n",
    "    raw_vdata.insert(0, 'type', 'gw')\n",
    "    vdata = pd.concat([vdata,raw_vdata], axis=0) \n",
    "    if (B_n%20==0):\n",
    "        print(f'{str(B_n)}%')"
   ]
  },
  {
   "cell_type": "code",
   "execution_count": null,
   "metadata": {},
   "outputs": [],
   "source": [
    "trvs = list(2/(60*np.asarray(gbfisher['f'])))\n",
    "vdata = vdata.rename(columns={0:'value'})\n",
    "vdata.insert(3, 'true_value', 0)\n",
    "vdata['true_value'] = np.asarray(trvs)[vdata['B_n']-1]\n",
    "vdata = vdata.sort_values(['true_value','type','value'])\n",
    "vdata['value'] = 60*(10^6)*(vdata['value'] - vdata['true_value'])\n",
    "vdata['B_n'] = vdata['B_n'].map(dict(zip(vdata['B_n'].unique(),np.arange(1,len(vdata['B_n'].unique())+1))))"
   ]
  },
  {
   "cell_type": "code",
   "execution_count": null,
   "metadata": {},
   "outputs": [],
   "source": [
    "b_raw = np.array([np.unique(c).tolist() for c in [vdata.loc[(vdata['B_n'] == b), 'B_n'] for b in vdata['B_n'].unique()]])\n",
    "b_n = np.unique(b_raw[b_raw.astype(bool)].tolist()).tolist()\n",
    "gw = [vdata.loc[(vdata['B_n'] == b) & (vdata['type'] == 'gw'),'value'] for b in b_n]\n",
    "gwem = [vdata.loc[(vdata['B_n'] == b) & (vdata['type'] == 'gw+em'), 'value'] for b in b_n]\n",
    "tv = vdata['true_value'].unique()"
   ]
  },
  {
   "cell_type": "code",
   "execution_count": null,
   "metadata": {
    "scrolled": false
   },
   "outputs": [],
   "source": [
    "cut = [0,1]\n",
    "qgw = [[0.0025,0.9975] for i in range(len(cut))]\n",
    "qgwem = [[0.0025,0.9975] for i in range(len(cut))]\n",
    "wt = 4\n",
    "#######################################################\n",
    "fig = plt.figure(figsize=(36,18))\n",
    "ax = fig.add_subplot(111)\n",
    "ctv = tv[cut]\n",
    "\n",
    "sgw = [pd.Series(l) for l in (np.asarray([s.tolist() for s in gw])[cut])]\n",
    "cgw = [list(l) for l in [s[s.between(s.quantile(qgw[i][0]),s.quantile(qgw[i][1]))] for i,s in enumerate(sgw)]]\n",
    "\n",
    "vp1 = plt.violinplot(cgw, positions=ctv, widths=wt, showextrema=False)\n",
    "for pc in vp1['bodies']:\n",
    "    pc.set_facecolor('#226EF1')\n",
    "    pc.set_edgecolor('black')\n",
    "    pc.set_alpha(0.5)\n",
    "    pc.get_paths()[0].vertices[:, 0] = np.clip(pc.get_paths()[0].vertices[:, 0],-np.inf,np.mean(pc.get_paths()[0].vertices[:, 0]))\n",
    "\n",
    "mgw = [np.percentile(list(m),50) for m in sgw]\n",
    "hgw = [np.percentile(list(m),90) for m in sgw]\n",
    "lgw = [np.percentile(list(m),10) for m in sgw]\n",
    "plt.hlines(mgw,ctv-wt/2,ctv,linewidth=2.0)\n",
    "plt.hlines(lgw,ctv-0.89*wt/4,ctv,linewidth=1.0,linestyle='--')\n",
    "plt.hlines(hgw,ctv-0.89*wt/4,ctv,linewidth=1.0,linestyle='--')\n",
    "\n",
    "sgwem = [pd.Series(l) for l in (np.asarray([s.tolist() for s in gwem])[cut])]\n",
    "cgwem = [list(l) for l in [s[s.between(s.quantile(qgwem[i][0]),s.quantile(qgwem[i][1]))] for i,s in enumerate(sgwem)]]\n",
    "\n",
    "vp2 = plt.violinplot(cgwem, positions=ctv, widths=wt, showextrema=False)\n",
    "for pc in vp2['bodies']:\n",
    "    pc.set_facecolor('#E67E00')\n",
    "    pc.set_edgecolor('black')\n",
    "    pc.set_alpha(0.5)\n",
    "    pc.get_paths()[0].vertices[:, 0] = np.clip(pc.get_paths()[0].vertices[:, 0],np.mean(pc.get_paths()[0].vertices[:, 0]),np.inf)\n",
    "\n",
    "mgwem = [np.percentile(list(m),50) for m in sgwem]\n",
    "hgwem = [np.percentile(list(m),90) for m in sgwem]\n",
    "lgwem = [np.percentile(list(m),10) for m in sgwem]\n",
    "plt.hlines(mgwem,ctv+wt/2,ctv,linewidth=2.0)\n",
    "plt.hlines(lgwem,ctv+0.89*wt/4,ctv,linewidth=1.0,linestyle='--')\n",
    "plt.hlines(hgwem,ctv+0.89*wt/4,ctv,linewidth=1.0,linestyle='--')\n",
    "\n",
    "plt.legend([vp1['bodies'][0],vp2['bodies'][0]],['GW Posterior','EM Posterior'],loc='upper right',prop={'size': 24})\n",
    "plt.xlabel('True Period (minutes)',fontsize=30)\n",
    "plt.ylabel('Residual Period ($\\mu$s)',fontsize=30)\n",
    "plt.xticks(fontsize=20)\n",
    "plt.yticks(fontsize=20)\n",
    "plt.grid()"
   ]
  }
 ],
 "metadata": {
  "kernelspec": {
   "display_name": "Python 3",
   "language": "python",
   "name": "python3"
  },
  "language_info": {
   "codemirror_mode": {
    "name": "ipython",
    "version": 3
   },
   "file_extension": ".py",
   "mimetype": "text/x-python",
   "name": "python",
   "nbconvert_exporter": "python",
   "pygments_lexer": "ipython3",
   "version": "3.8.1"
  }
 },
 "nbformat": 4,
 "nbformat_minor": 4
}
