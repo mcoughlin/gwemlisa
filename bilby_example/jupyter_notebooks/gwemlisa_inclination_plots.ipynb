{
 "cells": [
  {
   "cell_type": "code",
   "execution_count": null,
   "metadata": {},
   "outputs": [],
   "source": [
    "import os\n",
    "import re\n",
    "import warnings\n",
    "import numpy as np\n",
    "import pandas as pd\n",
    "import matplotlib.cbook\n",
    "import matplotlib.pyplot as plt\n",
    "from matplotlib.path import Path\n",
    "from matplotlib.collections import PolyCollection\n",
    "warnings.filterwarnings('ignore', category=np.VisibleDeprecationWarning)\n",
    "warnings.filterwarnings(\"ignore\",category=matplotlib.cbook.mplDeprecation)"
   ]
  },
  {
   "cell_type": "code",
   "execution_count": null,
   "metadata": {
    "scrolled": false
   },
   "outputs": [],
   "source": [
    "prefix = 'high_08yr'\n",
    "TSUN = 4.9169e-6\n",
    "gbfisher_columns = ['f','colatitude','longitude','amplitude','inclination','polarization','phase','fdot','fddot','sigma_df/f','sigma_colatitude','sigma_longitude','sigma_dA/A','sigma_inclination','sigma_polarization','sigma_phase','sigma_dfdot/fdot','sigma_dfddot/fddot','sigma_Omega','SNR','b','l','mchirp','distance'] \n",
    "gbfisher = pd.read_table(f'../../ldasoft/gbfisher_example/{prefix}_gbfisher_parameters.dat',delimiter=' ', header=None,index_col=False,names=gbfisher_columns)\n",
    "gbfisher['inclination'] = 90 - abs(np.degrees(gbfisher['inclination']) - 90)\n",
    "gbfisher['sigma_mchirp'] = (1/(5*TSUN))*((5/3)**(3/5))*(np.pi**(-8/5))*(gbfisher['f']**(-11/5))*(gbfisher['fdot']**(3/5))*((121*(gbfisher['sigma_df/f']**2) + 9*(gbfisher['sigma_dfdot/fdot']**2))**(1/2))"
   ]
  },
  {
   "cell_type": "code",
   "execution_count": null,
   "metadata": {},
   "outputs": [],
   "source": [
    "def readData(raw, index, inFunc=None):\n",
    "    x = []\n",
    "    for pos, line in enumerate(raw):\n",
    "        values = [float(x) for x in line.split()]\n",
    "        if inFunc==None:\n",
    "            x.append(values[index])\n",
    "        else:\n",
    "            x.append(inFunc(values[index]))\n",
    "    return x\n",
    "\n",
    "def plot_quantiles(vplt, vqt, htv, hwt, color):\n",
    "    bqts = []\n",
    "    for b in range(len(cut)):\n",
    "        qts = []\n",
    "        for c in range(len(vqt)):\n",
    "            path = PolyCollection.properties(vplt['bodies'][b])['paths'][0].vertices\n",
    "            cpath = path[[i > wt / 100 for i in (np.abs(path.T[0]-ctv[b]))]].T\n",
    "            vmin = np.array([np.abs(v - vqt[c][b]) for v in cpath[1]])\n",
    "            ind = np.where(vmin == np.min(vmin))[0]\n",
    "            hmax = np.array([np.abs(h - htv[b]) for h in cpath[0][ind]])\n",
    "            qts.append(cpath[0][ind[np.where(hmax == np.max(hmax))[0]]][0])\n",
    "        bqts.append(qts)\n",
    "    bqts = np.array(bqts).T\n",
    "    plt.hlines(vqt[1],bqts[1],ctv,linewidth=2.0,color=color)\n",
    "    plt.hlines(vqt[0],bqts[0],ctv,linewidth=1.5,linestyle='--',color=color)\n",
    "    plt.hlines(vqt[2],bqts[2],ctv,linewidth=1.5,linestyle='--',color=color)"
   ]
  },
  {
   "cell_type": "code",
   "execution_count": null,
   "metadata": {
    "scrolled": false
   },
   "outputs": [],
   "source": [
    "prior_types = ['em','gw']\n",
    "exclude = ['fdot','inc']\n",
    "for c,p in enumerate(prior_types):\n",
    "    binDir = os.path.join(os.getcwd(),f'../{prefix}-{p}prior')\n",
    "    for binary in os.listdir(binDir):\n",
    "        rawData = []\n",
    "        for folder in os.listdir(os.path.join(binDir,binary)):\n",
    "            if os.path.isdir(os.path.join(binDir,binary,folder)) & (not folder in exclude):\n",
    "                if int(re.search('row(.+?)_incl',folder).group(1)) == 0:\n",
    "                    B_n = int(re.search('binary(.+?)row',folder).group(1))\n",
    "                    with open(os.path.join(binDir,binary,folder,'post_equal_weights.dat'),'r') as raw:\n",
    "                        rawData = np.concatenate([rawData,readData(raw,4,inFunc=None)])\n",
    "        if (B_n == 1 and c==0):\n",
    "            vdata = pd.DataFrame(np.sort(rawData))\n",
    "            vdata.insert(0, 'B_n', B_n)\n",
    "            vdata.insert(0, 'type', f'{p}')\n",
    "        else:\n",
    "            raw_vdata = pd.DataFrame(np.sort(rawData))\n",
    "            raw_vdata.insert(0, 'B_n', B_n)\n",
    "            raw_vdata.insert(0, 'type', f'{p}')\n",
    "            vdata = pd.concat([vdata,raw_vdata], axis=0)"
   ]
  },
  {
   "cell_type": "code",
   "execution_count": null,
   "metadata": {
    "scrolled": false
   },
   "outputs": [],
   "source": [
    "chainDir = f'../../data/{prefix}_results/'\n",
    "for binary in os.listdir(chainDir):\n",
    "    rawData = []\n",
    "    B_n = int(re.search('binary(.*)',binary).group(1))\n",
    "    with open(os.path.join(chainDir,binary,'chains/dimension_chain.dat.1'),'r') as raw:\n",
    "        rawData = np.concatenate([rawData,readData(raw,5,inFunc=lambda x: 90-abs(np.degrees(np.arccos(x))-90))])\n",
    "    raw_vdata = pd.DataFrame(np.sort(rawData))\n",
    "    raw_vdata.insert(0, 'B_n', B_n)\n",
    "    raw_vdata.insert(0, 'type', 'gbf')\n",
    "    vdata = pd.concat([vdata,raw_vdata], axis=0)"
   ]
  },
  {
   "cell_type": "code",
   "execution_count": null,
   "metadata": {},
   "outputs": [],
   "source": [
    "trvs = list(gbfisher['inclination'])\n",
    "vdata = vdata.rename(columns={0:'value'})\n",
    "vdata.insert(3, 'true_value', 0)\n",
    "vdata['true_value'] = np.asarray(trvs)[vdata['B_n']-1]\n",
    "vdata = vdata.sort_values(['true_value','type','value'])\n",
    "vdata['value'] = vdata['value'] - vdata['true_value']\n",
    "vdata['B_n'] = vdata['B_n'].map(dict(zip(vdata['B_n'].unique(),np.arange(1,len(vdata['B_n'].unique())+1))))\n",
    "b_raw = np.array([np.unique(c).tolist() for c in [vdata.loc[(vdata['B_n'] == b), 'B_n'] for b in vdata['B_n'].unique()]])\n",
    "b_n = np.unique(b_raw[b_raw.astype(bool)].tolist()).tolist()\n",
    "gbf = [vdata.loc[(vdata['B_n'] == b) & (vdata['type'] == 'gbf'),'value'] for b in b_n]\n",
    "em = [vdata.loc[(vdata['B_n'] == b) & (vdata['type'] == 'em'), 'value'] for b in b_n]\n",
    "gw = [vdata.loc[(vdata['B_n'] == b) & (vdata['type'] == 'gw'), 'value'] for b in b_n]\n",
    "tv = vdata['true_value'].unique()"
   ]
  },
  {
   "cell_type": "code",
   "execution_count": null,
   "metadata": {
    "scrolled": false
   },
   "outputs": [],
   "source": [
    "cut = [0,1,2,3,4,5,6,7,8,9]\n",
    "qgbf = [[0.0001,0.9999] for i in range(len(cut))]\n",
    "qem = [[0.0001,0.9999] for i in range(len(cut))]\n",
    "qgw = [[0.0001,0.9999] for i in range(len(cut))]\n",
    "wt = 4\n",
    "#######################################################\n",
    "fig = plt.figure(figsize=(36,18))\n",
    "ax = fig.add_subplot(111)\n",
    "ctv = tv[cut]\n",
    "\n",
    "sgbf = [pd.Series(l) for l in (np.asarray([s.tolist() for s in gbf])[cut])]\n",
    "sem = [pd.Series(l) for l in (np.asarray([s.tolist() for s in em])[cut])]\n",
    "sgw = [pd.Series(l) for l in (np.asarray([s.tolist() for s in gw])[cut])]\n",
    "cgbf = [list(l) for l in [s[s.between(s.quantile(qgbf[i][0]),s.quantile(qgbf[i][1]))] for i,s in enumerate(sgbf)]]\n",
    "cem = [list(l) for l in [s[s.between(s.quantile(qem[i][0]),s.quantile(qem[i][1]))] for i,s in enumerate(sem)]]\n",
    "cgw = [list(l) for l in [s[s.between(s.quantile(qgw[i][0]),s.quantile(qgw[i][1]))] for i,s in enumerate(sgw)]]\n",
    "mgbf = np.array([list(np.percentile(list(m),[10,50,90])) for m in sgbf]).T\n",
    "mem = np.array([list(np.percentile(list(m),[10,50,90])) for m in sem]).T\n",
    "mgw = np.array([list(np.percentile(list(m),[10,50,90])) for m in sgw]).T\n",
    "\n",
    "# Plot GW prior\n",
    "vpgbf = plt.violinplot(cgbf, positions=ctv, widths=wt, showextrema=False)\n",
    "for pc in vpgbf['bodies']:\n",
    "    pc.set_facecolor('#20BB00')\n",
    "    pc.set_edgecolor('black')\n",
    "    pc.set_alpha(0.5)\n",
    "    pc.get_paths()[0].vertices[:, 0] = np.clip(pc.get_paths()[0].vertices[:, 0],-np.inf,np.mean(pc.get_paths()[0].vertices[:, 0]))\n",
    "plot_quantiles(vpgbf, mgbf, ctv, wt, '#105E00')\n",
    "\n",
    "# Plot EM posterior\n",
    "vpem = plt.violinplot(cem, positions=ctv, widths=wt, showextrema=False)\n",
    "for pc in vpem['bodies']:\n",
    "    pc.set_facecolor('#E67E00')\n",
    "    pc.set_edgecolor('black')\n",
    "    pc.set_alpha(0.5)\n",
    "    pc.get_paths()[0].vertices[:, 0] = np.clip(pc.get_paths()[0].vertices[:, 0],-np.inf,np.mean(pc.get_paths()[0].vertices[:, 0]))\n",
    "plot_quantiles(vpem, mem, ctv, wt, '#733F00')\n",
    "\n",
    "# Plot GW+EM posterior\n",
    "vpgw = plt.violinplot(cgw, positions=ctv, widths=wt, showextrema=False)\n",
    "for pc in vpgw['bodies']:\n",
    "    pc.set_facecolor('#226EF1')\n",
    "    pc.set_edgecolor('black')\n",
    "    pc.set_alpha(0.5)\n",
    "    pc.get_paths()[0].vertices[:, 0] = np.clip(pc.get_paths()[0].vertices[:, 0],np.mean(pc.get_paths()[0].vertices[:, 0]),np.inf)\n",
    "plot_quantiles(vpgw, mgw, ctv, wt, '#113779')\n",
    "\n",
    "plt.legend([vpgbf['bodies'][0],vpem['bodies'][0],vpgw['bodies'][0]],['GW Prior','EM Posterior','GW+EM Posterior'],loc='upper right',prop={'size': 24})\n",
    "plt.title(f'{prefix} Residual Inclination vs True Inclination',fontsize=40,pad=20)\n",
    "plt.xlabel('True Inclination (degrees)',fontsize=30,labelpad=10)\n",
    "plt.ylabel('Residual Inclination (degrees)',fontsize=30,labelpad=10)\n",
    "\n",
    "ax.set_xlim(np.max([0,np.floor(ax.get_xlim()[0])]),np.min([90,np.ceil(ax.get_xlim()[1])]))\n",
    "for s in range(3,6): \n",
    "    scale = 3\n",
    "    if ((ax.get_xlim()[1] - ax.get_xlim()[0]) % s == 0): \n",
    "        scale = s + 1\n",
    "\n",
    "xticks = np.linspace((ax.get_xlim()[0]),(ax.get_xlim()[1]), scale)\n",
    "xtls = np.concatenate(([f'{x:.0f}' for x in xticks],[f'{x:.3f}' for x in ctv]))\n",
    "plt.xticks(np.sort(np.append(xticks,ctv)), fontsize=20)\n",
    "ax.set_xticklabels([x for _, x in sorted(zip(np.append(xticks,ctv),xtls))])\n",
    "plt.yticks(fontsize=20)\n",
    "for v in ctv:\n",
    "    ax.axvline(v, c='k', linestyle=':', linewidth=2.0)\n",
    "ax.axhline(0, c='#555555', linestyle = '-', linewidth=1.5)\n",
    "plt.grid()\n",
    "plt.show()"
   ]
  }
 ],
 "metadata": {
  "kernelspec": {
   "display_name": "Python 3",
   "language": "python",
   "name": "python3"
  },
  "language_info": {
   "codemirror_mode": {
    "name": "ipython",
    "version": 3
   },
   "file_extension": ".py",
   "mimetype": "text/x-python",
   "name": "python",
   "nbconvert_exporter": "python",
   "pygments_lexer": "ipython3",
   "version": "3.8.1"
  }
 },
 "nbformat": 4,
 "nbformat_minor": 4
}
