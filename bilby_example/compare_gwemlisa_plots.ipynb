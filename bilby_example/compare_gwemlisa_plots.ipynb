{
 "cells": [
  {
   "cell_type": "code",
   "execution_count": 1,
   "metadata": {},
   "outputs": [],
   "source": [
    "import os\n",
    "import re\n",
    "import glob \n",
    "import tables\n",
    "import numpy as np\n",
    "import pandas as pd\n",
    "from scipy import stats\n",
    "from scipy.stats import norm\n",
    "import matplotlib.pyplot as plt"
   ]
  },
  {
   "cell_type": "code",
   "execution_count": 2,
   "metadata": {},
   "outputs": [],
   "source": [
    "TSUN = 4.9169e-6\n",
    "gbf_cols = ['f','colat','lon','A','i','psi','phi','fdot','fddot','s_df/f','s_colat','s_lon','s_dA/A','s_i','s_psi','s_phi','s_dfdot/fdot','s_dfddot/fddot','s_Omega','SNR','b','l','Mc','d'] \n",
    "gbf = pd.read_table('../ldasoft/gbfisher_example/gbfisher_parameters.dat',delimiter=' ', header=None,index_col=False,names=gbf_cols)\n",
    "gbf['i'] = 90 - abs(np.degrees(gbf['i']) - 90)\n",
    "gbf['s_i'] = 90 - abs(np.degrees(gbf['s_i']) - 90)\n",
    "gbf['s_Mc'] = (1/(5*TSUN))*((5/3)**(3/5))*(np.pi**(-8/5))*(gbf['f']**(-11/5))*(gbf['fdot']**(3/5))*((121*(gbf['s_df/f']**2) + 9*(gbf['s_dfdot/fdot']**2))**(1/2)) \n",
    "gbf.head()"
   ]
  },
  {
   "cell_type": "code",
   "execution_count": 3,
   "metadata": {},
   "outputs": [],
   "source": [
    "def readData(raw, index, inFunc):\n",
    "    x = []\n",
    "    for pos, line in enumerate(raw):\n",
    "        values = [float(x) for x in line.split()]\n",
    "        x.append(inFunc(values[index]))\n",
    "    x_50, x_10, x_90 = np.percentile(x,50), np.percentile(x,10), np.percentile(x,90)\n",
    "    return [x_50, x_90-x_50, x_50-x_10]\n",
    "\n",
    "def combineData(df, p):\n",
    "    data = []; mx = []; ux = []; lx = []\n",
    "    columns = ['B_n'] + [s for s in list(df.keys()) if re.match(p,s)]\n",
    "    for j in range(df.shape[0]):\n",
    "        mx.append(df[columns[1]][j])\n",
    "        ux.append(df[columns[2]][j])\n",
    "        lx.append(df[columns[3]][j])\n",
    "        if(df['O_n'][j] == df['O_n'].max()):\n",
    "            data.append([df['B_n'][j], np.percentile(mx,50), np.percentile(ux,50), np.percentile(lx,50)])\n",
    "            mx = []; ux = []; lx = []\n",
    "    return pd.DataFrame(data,columns=columns)"
   ]
  },
  {
   "cell_type": "code",
   "execution_count": 4,
   "metadata": {
    "scrolled": false
   },
   "outputs": [],
   "source": [
    "v = 'i'\n",
    "exclude = ['fdot','inc']\n",
    "prior_types = list(filter(lambda vp: re.search('(.*?)-gwprior', vp), os.listdir(os.getcwd())))\n",
    "prior = [re.match('(.*?)-gwprior',s).group(1) for s in prior_types]\n",
    "fix_incl = lambda i: 90 - abs(i - 90)\n",
    "\n",
    "for n,p in enumerate(prior):\n",
    "    binDir = os.path.join(os.getcwd(),f'{p}-gwprior')\n",
    "    data = []\n",
    "    for binary in os.listdir(binDir):\n",
    "        for foldername in os.listdir(os.path.join(binDir,binary)):\n",
    "            if os.path.isdir(os.path.join(binDir,os.path.join(binary,foldername))) & (not foldername in exclude):\n",
    "                B_n = int(re.search('binary(.+?)row',foldername).group(1))\n",
    "                O_n = int(re.search('row(.+?)_incl',foldername).group(1))\n",
    "                file = os.path.join(binDir,os.path.join(binary,os.path.join(foldername,'post_equal_weights.dat')))\n",
    "                with open(file,'r') as raw:\n",
    "                    data.append([B_n, O_n]+readData(raw,4,fix_incl))\n",
    "\n",
    "    gwl_cols = ['B_n', 'O_n', f'{p}_{v}', f'{p}_+s_{v}', f'{p}_-s_{v}']\n",
    "    raw_gwl = pd.DataFrame(data,columns=gwl_cols)\n",
    "    raw_gwl = raw_gwl.sort_values(['B_n','O_n']).reset_index(drop=True)\n",
    "    sub_gwl = combineData(raw_gwl, p)\n",
    "    if n == 0: gwl = sub_gwl; continue\n",
    "    gwl = pd.merge(gwl, sub_gwl, on=['B_n'])\n",
    "\n",
    "comb = pd.concat([gbf[[f'{v}',f's_{v}']], gwl], axis=1)\n",
    "comb = comb.sort_values(['B_n']).reset_index(drop=True).drop(['B_n'], axis=1)\n",
    "comb.head()"
   ]
  },
  {
   "cell_type": "code",
   "execution_count": 5,
   "metadata": {
    "scrolled": false
   },
   "outputs": [],
   "source": [
    "v = 'i'\n",
    "nbins = 200\n",
    "chain_cols = ['f','fdot','A','colat','lon','i','psi','phi']\n",
    "chainDir = '../data/08yr_sp32_100_binaries/'\n",
    "data = []\n",
    "\n",
    "for binary in os.listdir(chainDir):\n",
    "    B_n = int(re.search('binary(.*)',binary).group(1))\n",
    "    chain = pd.read_table(os.path.join(chainDir,os.path.join(binary,'chains/dimension_chain.dat.1')),delimiter=' ',header=None,index_col=False,names=chain_cols)\n",
    "    chain[f'{v}'] = 90 - abs(np.degrees(np.arccos(chain[f'{v}'])) - 90)\n",
    "    mu = np.mean(chain[f'{v}'])\n",
    "    std = np.std(chain[f'{v}'])\n",
    "    n, bins = np.histogram(chain[f'{v}'], bins=nbins, density=True)\n",
    "    kde = stats.gaussian_kde(chain[f'{v}'])\n",
    "    data.append([B_n, n, bins, kde, mu, std])\n",
    "\n",
    "gbm_cols = ['B_n',f'n_{v}',f'bins_{v}',f'kde_{v}',f'mu_{v}',f'std_{v}']\n",
    "gbm = pd.DataFrame(data,columns=gbm_cols)\n",
    "gbm = gbm.sort_values(['B_n']).reset_index(drop=True).drop(['B_n'], axis=1)\n",
    "gbm.head()"
   ]
  },
  {
   "cell_type": "code",
   "execution_count": 6,
   "metadata": {
    "scrolled": false
   },
   "outputs": [],
   "source": [
    "v = 'i'\n",
    "x_width = 4 #sigma\n",
    "prior = ['old', 'normal', 'samples', 'kde']\n",
    "colors = [f'C{t}' for t in range(0,len(prior))]\n",
    "ub = 0; uc = 100\n",
    "\n",
    "for j in range(ub,uc):\n",
    "    plt.figure(j).set_size_inches(8.0,8.0)\n",
    "    ax1 = plt.subplot(1, 2, 1)\n",
    "    plt.title(f'Binary{str(j+1).zfill(3)} results',fontsize=20,pad=14)\n",
    "    plt.ylabel('inclination (degrees)',fontsize=18)\n",
    "    plt.xticks(np.arange(1,5),prior,rotation='vertical',fontsize=14)\n",
    "    plt.yticks(fontsize=12)\n",
    "    ax1.errorbar(x=range(0,6),y=comb[f'{v}'][j],linestyle='-',marker='',color='k',label='gbfisher data')\n",
    "    plt.legend(fontsize=10)\n",
    "    ax1.errorbar(x=range(0,6),y=comb[f'{v}'][j]+comb[f's_{v}'][j],linestyle='--',marker='',color='k')\n",
    "    ax1.errorbar(x=range(0,6),y=comb[f'{v}'][j]-comb[f's_{v}'][j],linestyle='--',marker='',color='k')\n",
    "    for n,p in enumerate(prior):\n",
    "        ax1.errorbar(x=n+1,y=comb[f'{p}_{v}'][j],capsize=3,yerr=np.transpose(np.array(comb[[f'{p}_-s_{v}',f'{p}_+s_{v}']])[j:j+1]),linestyle='',marker='')   \n",
    "    for xtick, color in zip(ax1.get_xticklabels(), colors):\n",
    "        xtick.set_color(color)\n",
    "\n",
    "    ax2 = plt.subplot(1, 2, 2)\n",
    "    plt.title(f'Binary{str(j+1).zfill(3)} priors',fontsize=20,pad=14)\n",
    "    plt.xlabel('inclination (degrees)', fontsize=18)\n",
    "    plt.xticks(fontsize=12)\n",
    "    plt.yticks(fontsize=12)\n",
    "\n",
    "    plt.bar(gbm[f'bins_{v}'][j][:-1], gbm[f'n_{v}'][j], width=(gbm[f'bins_{v}'][j][-1]-gbm[f'bins_{v}'][j][0])/(len(gbm[f'bins_{v}'][j])-1),label='Chain Histogram')\n",
    "\n",
    "    x = np.linspace(gbm[f'mu_{v}'][j]-x_width*gbm[f'std_{v}'][j],gbm[f'mu_{v}'][j]+x_width*gbm[f'std_{v}'][j],200)\n",
    "    plt.plot(x,gbm[f'kde_{v}'][j](x),linewidth=3,label='KDE',color='C1')\n",
    "    plt.plot(x,norm.pdf(x,gbm[f'mu_{v}'][j],gbm[f'std_{v}'][j]),linestyle='--',linewidth=3,label='Normal', color='C2')\n",
    "\n",
    "    ymin, ymax = plt.ylim()\n",
    "    plt.vlines(gbf[f'{v}'][j],ymin,ymax,label='True Inclination',linewidth=2,linestyle='-',color='k')\n",
    "    plt.vlines(gbf[f'{v}'][j]+gbf[f's_{v}'][j],ymin,ymax,linewidth=2,linestyle='--',color='k')\n",
    "    plt.vlines(gbf[f'{v}'][j]-gbf[f's_{v}'][j],ymin,ymax,linewidth=2,linestyle='--',color='k')\n",
    "\n",
    "    plt.xlim(gbm[f'mu_{v}'][j]-x_width*gbm[f'std_{v}'][j], gbm[f'mu_{v}'][j]+x_width*gbm[f'std_{v}'][j])\n",
    "    plt.legend(fontsize=10)\n",
    "\n",
    "    plt.tight_layout(pad=4, rect=[0, 0.03, 1.7, 1])\n",
    "    \n",
    "    if not os.path.isdir('incl_plots'):\n",
    "        os.makedirs('incl_plots')\n",
    "    plotName = os.path.join('incl_plots',('binary'+str(j+1).zfill(3)+'_incl_plot.png'))\n",
    "    plt.savefig(plotName, bbox_inches='tight')"
   ]
  },
  {
   "cell_type": "code",
   "execution_count": 7,
   "metadata": {
    "scrolled": false
   },
   "outputs": [],
   "source": [
    "# v = 'i'; lb = 0; ub = 100\n",
    "# cut = [False]*lb + [True]*(ub-lb) + [False]*(100-ub)\n",
    "# prior = ['old', 'normal', 'samples', 'kde']\n",
    "# color = ['r','g','m','k']\n",
    "\n",
    "# for n,p in enumerate(prior):\n",
    "#     fig, ax = plt.subplots(figsize=(20,10))\n",
    "#     ax.tick_params(axis='y', labelsize=14)\n",
    "#     plt.xticks([])\n",
    "#     plt.yticks(np.arange(0, 100, 10))\n",
    "#     plt.ylabel('inclination (degrees)',fontsize=20)\n",
    "#     plt.errorbar(x=range(lb,ub),y=comb[f'{v}'][cut],capsize=3,yerr=comb[f's_{v}'][cut],linestyle='',marker='.', color='C0')\n",
    "#     plt.errorbar(x=np.arange(lb,ub,1)+0.05,y=comb[f'{p}_{v}'][cut],capsize=3,yerr=np.transpose(np.array(comb[[f'{p}_-s_{v}',f'{p}_+s_{v}']][cut])),linestyle='',marker='', color=color[n])   \n",
    "#     legend = ['gbfisher data', f'gwemlisa {p} prior']\n",
    "#     ax.legend(legend,fontsize=14)"
   ]
  }
 ],
 "metadata": {
  "kernelspec": {
   "display_name": "Python 3",
   "language": "python",
   "name": "python3"
  },
  "language_info": {
   "codemirror_mode": {
    "name": "ipython",
    "version": 3
   },
   "file_extension": ".py",
   "mimetype": "text/x-python",
   "name": "python",
   "nbconvert_exporter": "python",
   "pygments_lexer": "ipython3",
   "version": "3.8.1"
  }
 },
 "nbformat": 4,
 "nbformat_minor": 4
}
