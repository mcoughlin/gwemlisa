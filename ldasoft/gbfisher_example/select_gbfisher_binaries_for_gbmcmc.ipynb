{
 "cells": [
  {
   "cell_type": "code",
   "execution_count": null,
   "metadata": {},
   "outputs": [],
   "source": [
    "import glob \n",
    "import tables\n",
    "import corner\n",
    "import numpy as np\n",
    "import pandas as pd\n",
    "import matplotlib.pyplot as plt\n",
    "import matplotlib.colors as clr\n",
    "from scipy import stats\n",
    "from astropy import units as u\n",
    "from astropy.coordinates import SkyCoord\n",
    "\n",
    "TSUN = 4.9169e-6\n",
    "PC = 3.0856775807e16\n",
    "CLIGHT = 299792458.\n",
    "\n",
    "catalog_columns = ['f','colatitude','longitude','amplitude','inclination','polarization','phase','fdot','fddot','sigma_df/f','sigma_colatitude','sigma_longitude','sigma_dA/A','sigma_inclination','sigma_polarization','sigma_phase','sigma_dfdot/fdot','sigma_dfddot/fddot','sigma_Omega','SNR']\n",
    "output_columns = catalog_columns + ['b','l','mchirp','distance']"
   ]
  },
  {
   "cell_type": "code",
   "execution_count": null,
   "metadata": {},
   "outputs": [],
   "source": [
    "# # Import raw gbfisher data\n",
    "# catalog = pd.read_table('SigmasAE.dat',delimiter=' ', header=None,index_col=False,names=catalog_columns)\n",
    "\n",
    "# # Convert to galactic coordinates\n",
    "# def ecliptic_to_galactic(row):\n",
    "#     ecl_lon = row[2]*u.rad\n",
    "#     ecl_lat = (np.pi/2 - row[1])*u.rad\n",
    "#     gal = SkyCoord(ecl_lon,ecl_lat,frame='barycentrictrueecliptic').galactic\n",
    "#     gal_lon = gal.l.degree\n",
    "#     gal_lat = gal.b.degree\n",
    "#     return pd.Series(dict(l=gal_lon,b=gal_lat))\n",
    "\n",
    "# #catalog['b']=catalog.apply(lambda row: SkyCoord(catalog.longitude*u.rad,(np.pi/2 - catalog.colatitude)*u.rad,frame='barycentrictrueecliptic').galactic.b.degree, axis=1)\n",
    "# catalog = catalog.join(catalog.apply(lambda row: ecliptic_to_galactic(row), axis=1))\n",
    "\n",
    "# # Get chirp masses and distances (not sure how to get uncertainties on these)\n",
    "# def amp_to_distance(row):\n",
    "#     f = row[0]\n",
    "#     A = row[3]\n",
    "#     fdot = row[7]\n",
    "#     Mc = 0\n",
    "#     DL = 0\n",
    "#     if(fdot>0):\n",
    "#         Mc = (( fdot * (5./96.) / np.pi**(8./3.) / f**(11./3.))**(3./5.))/TSUN\n",
    "#         DL = ((5./48.)*(fdot/(np.pi**2*f**3*A))*CLIGHT/PC)\n",
    "#     return pd.Series(dict(mchirp=Mc,distance=DL))\n",
    "\n",
    "# catalog = catalog.join(catalog.apply(lambda row: amp_to_distance(row), axis=1))\n",
    "\n",
    "# # remove the binaries with unknown distance (and by extension unknown fdot and chirp mass too)   \n",
    "# rem = catalog['distance'].between(0.0,0.001)\n",
    "# catalog = catalog.drop(catalog.index[rem],axis=0)\n",
    "# catalog.head()\n",
    "\n",
    "# # Create gbfisher checkpoint file for speeding up data analysis\n",
    "# gbfisher = pd.DataFrame(columns = output_columns)\n",
    "# for col_name in output_columns:\n",
    "#     gbfisher[col_name] = catalog[col_name]\n",
    "# gbfisher.to_csv('gbfisher_checkpoint.dat',sep=' ',header=None,index=False)"
   ]
  },
  {
   "cell_type": "code",
   "execution_count": null,
   "metadata": {},
   "outputs": [],
   "source": [
    "# Import gbfisher data\n",
    "catalog = pd.read_table('gbfisher_checkpoint.dat',delimiter=' ', header=None,index_col=False,names=output_columns)\n",
    "catalog.head()"
   ]
  },
  {
   "cell_type": "code",
   "execution_count": null,
   "metadata": {},
   "outputs": [],
   "source": [
    "# SNRcut = catalog['SNR'].between(7,18)\n",
    "# catalog = catalog[SNRcut]"
   ]
  },
  {
   "cell_type": "code",
   "execution_count": null,
   "metadata": {
    "scrolled": true
   },
   "outputs": [],
   "source": [
    "# Compute \"luminosity\"\n",
    "catalog['luminosity'] = 1/(catalog['distance']**2)\n",
    "catalog['luminosity'] = catalog['luminosity'] / sum(catalog['luminosity'])\n",
    "\n",
    "# remove binaries with bad luminosity values (maybe look into this issue)\n",
    "catalog = catalog.dropna(subset=['luminosity'])"
   ]
  },
  {
   "cell_type": "code",
   "execution_count": null,
   "metadata": {
    "scrolled": false
   },
   "outputs": [],
   "source": [
    "# Compute KDE\n",
    "coords = np.vstack([catalog['l'],catalog['b']])\n",
    "kernel = stats.gaussian_kde(coords)\n",
    "kde = kernel.evaluate(coords).T / sum(kernel.evaluate(coords).T)\n",
    "\n",
    "# take logarithm to weaken the influence of KDE over binary selection\n",
    "catalog['KDE'] = pd.Series(-np.log(kde))\n",
    "catalog = catalog.dropna(subset=['KDE'])"
   ]
  },
  {
   "cell_type": "code",
   "execution_count": null,
   "metadata": {
    "scrolled": false
   },
   "outputs": [],
   "source": [
    "# # Primitive weighting algorithm\n",
    "# ckde = 1\n",
    "# csnr = 2\n",
    "# clum = 1\n",
    "\n",
    "# catalog['weight'] = (catalog['KDE']**ckde)*(catalog['SNR']**csnr)*(catalog['luminosity']**clum)\n",
    "# catalog['weight'] = catalog['weight'] / sum(catalog['weight'])\n",
    "# catalog.head()"
   ]
  },
  {
   "cell_type": "code",
   "execution_count": null,
   "metadata": {},
   "outputs": [],
   "source": [
    "ckde = 1\n",
    "clum = 1\n",
    "\n",
    "catalog['weight'] = (catalog['KDE']**ckde)*(catalog['luminosity']**clum)\n",
    "catalog['weight'] = catalog['weight'] / sum(catalog['weight'])\n",
    "catalog.head()"
   ]
  },
  {
   "cell_type": "code",
   "execution_count": null,
   "metadata": {
    "scrolled": false
   },
   "outputs": [],
   "source": [
    "# Apply cuts and plot result\n",
    "\n",
    "weight_min = 3E-6  # 1.75E-4\n",
    "weight_max = 1\n",
    "\n",
    "Min_Period = 2/60\n",
    "Max_Period = 20\n",
    "f_min = 2/(60*Max_Period)\n",
    "f_max = 2/(60*Min_Period)\n",
    "\n",
    "sigma_incl_min = 0\n",
    "sigma_incl_max = 10\n",
    "\n",
    "incl_min = 89\n",
    "incl_max = 90\n",
    "\n",
    "snr_min = 0\n",
    "snr_max = 20\n",
    "\n",
    "cut = catalog['weight'].between(weight_min,weight_max) \\\n",
    "    & catalog['f'].between(f_min,f_max) \\\n",
    "    & np.degrees(catalog['sigma_inclination']).between(sigma_incl_min,sigma_incl_max) \\\n",
    "    & catalog['SNR'].between(snr_min,snr_max) \\\n",
    "    & np.degrees(catalog['inclination']).between(incl_min,incl_max)\n",
    "\n",
    "f = plt.figure(figsize=(15,15))\n",
    "plt.subplot(111, projection='aitoff')\n",
    "plt.grid(True)\n",
    "gal = SkyCoord(catalog[cut]['l'][:],catalog[cut]['b'][:],frame='galactic',unit=u.deg)\n",
    "plt.scatter(gal.l.wrap_at('180d').radian, gal.b.radian,s=10)\n",
    "\n",
    "catalog[cut].head(n=50)"
   ]
  },
  {
   "cell_type": "code",
   "execution_count": null,
   "metadata": {},
   "outputs": [],
   "source": [
    "# # sky plot showing periods\n",
    "# f = plt.figure(figsize=(15,15))\n",
    "# plt.subplot(111, projection='aitoff')\n",
    "# plt.grid(True)\n",
    "# gal = SkyCoord(catalog[cut]['l'][:],catalog[cut]['b'][:],frame='galactic',unit=u.deg)\n",
    "# plt.scatter(gal.l.wrap_at('180d').radian, gal.b.radian,s=10,c=1/(30*catalog[cut]['f']),cmap='viridis')\n",
    "# cbar = plt.colorbar(orientation='horizontal',pad=0.05)\n",
    "# cbar.set_label(label='period',size=15)\n",
    "\n",
    "# # sky plot showing distances\n",
    "# f = plt.figure(figsize=(15,15))\n",
    "# plt.subplot(111, projection='aitoff')\n",
    "# plt.grid(True)\n",
    "# gal = SkyCoord(catalog[cut]['l'][:],catalog[cut]['b'][:],frame='galactic',unit=u.deg)\n",
    "# plt.scatter(gal.l.wrap_at('180d').radian, gal.b.radian,s=10,c=catalog[cut]['distance'],cmap='viridis')\n",
    "# cbar = plt.colorbar(orientation='horizontal',pad=0.05)\n",
    "# cbar.set_label(label='distance',size=15)\n",
    "\n",
    "# # sky plot showing inclinations\n",
    "# f = plt.figure(figsize=(15,15))\n",
    "# plt.subplot(111, projection='aitoff')\n",
    "# plt.grid(True)\n",
    "# gal = SkyCoord(catalog[cut]['l'][:],catalog[cut]['b'][:],frame='galactic',unit=u.deg)\n",
    "# plt.scatter(gal.l.wrap_at('180d').radian, gal.b.radian,s=10,c=90-abs(np.degrees(catalog[cut]['inclination'])-90),cmap='viridis')\n",
    "# cbar = plt.colorbar(orientation='horizontal',pad=0.05)\n",
    "# cbar.set_label(label='inclination',size=15)\n",
    "\n",
    "# # sky plot showing SNRs\n",
    "# f = plt.figure(figsize=(15,15))\n",
    "# plt.subplot(111, projection='aitoff')\n",
    "# plt.grid(True)\n",
    "# gal = SkyCoord(catalog[cut]['l'][:],catalog[cut]['b'][:],frame='galactic',unit=u.deg)\n",
    "# plt.scatter(gal.l.wrap_at('180d').radian, gal.b.radian,s=10,c=catalog[cut]['SNR'],cmap='viridis',norm=clr.LogNorm())\n",
    "# cbar = plt.colorbar(orientation='horizontal',pad=0.05)\n",
    "# cbar.set_label(label='SNR',size=15)"
   ]
  },
  {
   "cell_type": "code",
   "execution_count": null,
   "metadata": {},
   "outputs": [],
   "source": [
    "# bins = 10**np.linspace(0.0, 2, 31)\n",
    "# plt.hist(2/(60*catalog['f']), bins, histtype='bar', ec='black', color='C1', density=True)\n",
    "# plt.title('Marginal Period Distribution for Population', fontsize=15)\n",
    "# plt.xlabel('Period (minutes)',fontsize=14)\n",
    "# #plt.ylabel('Binary Count',fontsize=14)\n",
    "# plt.xscale('log')\n",
    "# plt.show()\n",
    "\n",
    "# bins = np.linspace(0,90,46)\n",
    "# plt.hist(90-abs(np.degrees(catalog['inclination'])-90), bins, histtype='bar', ec='black', color='C1', density=True)\n",
    "# plt.title('Marginal Inclination Distribution for Population', fontsize=15)\n",
    "# plt.xlabel('Inclination (degrees)',fontsize=14)\n",
    "# plt.xticks(np.linspace(0,90,10))\n",
    "# #plt.ylabel('Binary Count',fontsize=14)\n",
    "# plt.show()\n",
    "\n",
    "# bins = 10**np.linspace(-1.5, 1.4, 56)\n",
    "# plt.hist(catalog['distance']/1000., bins, histtype='bar', ec='black', color='C1', density=True)\n",
    "# plt.title('Marginal Distance Distribution for Population', fontsize=15)\n",
    "# plt.xlabel('Distance (kpc)',fontsize=14)\n",
    "# #plt.ylabel('Binary Count',fontsize=14)\n",
    "# plt.xscale('log')\n",
    "# plt.show()"
   ]
  },
  {
   "cell_type": "code",
   "execution_count": null,
   "metadata": {},
   "outputs": [],
   "source": [
    "# Create gbmcmc input file for selected binaries\n",
    "gbmcmc_columns = ['f','fdot','colatitude','longitude','amplitude','inclination','polarization','phase']\n",
    "gbmcmc = pd.DataFrame(columns = gbmcmc_columns)\n",
    "for col_name in gbmcmc_columns:\n",
    "    gbmcmc[col_name] = catalog[cut][col_name]\n",
    "gbmcmc.to_csv('Binary_Parameters.dat',sep=' ',header=None,index=False)"
   ]
  },
  {
   "cell_type": "code",
   "execution_count": null,
   "metadata": {},
   "outputs": [],
   "source": [
    "# Create gbfisher data file for selected binaries for comparison with gwemlisa data\n",
    "output = pd.DataFrame(columns = output_columns)\n",
    "for col_name in output_columns:\n",
    "    output[col_name] = catalog[cut][col_name]\n",
    "output.to_csv('gbfisher_parameters.dat',sep=' ',header=None,index=False)"
   ]
  },
  {
   "cell_type": "code",
   "execution_count": null,
   "metadata": {
    "scrolled": false
   },
   "outputs": [],
   "source": [
    "# f = plt.figure()\n",
    "# bins = 10**np.linspace(0.1, 2, 29)\n",
    "# plt.hist(2/(60*catalog['f']), bins, histtype='bar', label='population', ec='black', color='C1', alpha=0.5, density=True)\n",
    "# plt.hist(2/(60*catalog['f'][cut]), bins, histtype='bar', label='sample', ec='black', color='C0', alpha=0.5, density=True)\n",
    "# plt.title('Marginal Period Distribution', fontsize=15)\n",
    "# plt.xlabel('Period (minutes)',fontsize=14)\n",
    "# plt.xscale('log')\n",
    "# plt.legend()\n",
    "# plt.show()\n",
    "\n",
    "# f = plt.figure()\n",
    "# bins = np.linspace(0,90,46)\n",
    "# plt.hist(90-abs(np.degrees(catalog['inclination'])-90), bins, histtype='bar', label='population', ec='black', color='C1', alpha=0.5, density=True)\n",
    "# plt.hist(90-abs(np.degrees(catalog[cut]['inclination'])-90), bins, histtype='bar', label='sample', ec='black', color='C0', alpha=0.5, density=True)\n",
    "# plt.title('Marginal Inclination Distribution', fontsize=15)\n",
    "# plt.xlabel('Inclination (degrees)',fontsize=14)\n",
    "# plt.xticks(np.linspace(0,90,10))\n",
    "# plt.legend()\n",
    "# plt.show()\n",
    "\n",
    "# f = plt.figure()\n",
    "# bins = 10**np.linspace(-1.5, 1.4, 31)\n",
    "# #bins = np.linspace(0,25,26)\n",
    "# plt.hist(catalog['distance']/1000., bins, histtype='bar', label='population', ec='black', color='C1', alpha=0.5, density=True)\n",
    "# plt.hist(catalog['distance'][cut]/1000., bins, histtype='bar', label='sample', ec='black', color='C0', alpha=0.5, density=True)\n",
    "# plt.title('Marginal Distance Distribution', fontsize=15)\n",
    "# plt.xlabel('Distance (kpc)',fontsize=14)\n",
    "# plt.xscale('log')\n",
    "# plt.legend()\n",
    "# plt.show()"
   ]
  },
  {
   "cell_type": "code",
   "execution_count": null,
   "metadata": {
    "scrolled": true
   },
   "outputs": [],
   "source": [
    "# f = plt.figure()\n",
    "# bins = 10**np.linspace(0.7, 3.5, 33)\n",
    "# plt.hist(catalog['SNR'], bins, histtype='bar', label='population', ec='black', color='C1', alpha=0.5, density=True)\n",
    "# plt.hist(catalog['SNR'][cut], bins, histtype='bar', label='sample', ec='black', color='C0', alpha=0.5, density=True)\n",
    "# plt.title('Signal-to-Noise Ratio Distribution', fontsize=14)\n",
    "# plt.xlabel('Signal-to-Noise Ratio',fontsize=10)\n",
    "# plt.ylabel('Normalized Bin Count',fontsize=10)\n",
    "# plt.xscale('log')\n",
    "# plt.yscale('log')\n",
    "# plt.legend()\n",
    "# plt.show()"
   ]
  }
 ],
 "metadata": {
  "kernelspec": {
   "display_name": "Python 3",
   "language": "python",
   "name": "python3"
  },
  "language_info": {
   "codemirror_mode": {
    "name": "ipython",
    "version": 3
   },
   "file_extension": ".py",
   "mimetype": "text/x-python",
   "name": "python",
   "nbconvert_exporter": "python",
   "pygments_lexer": "ipython3",
   "version": "3.8.1"
  }
 },
 "nbformat": 4,
 "nbformat_minor": 4
}
